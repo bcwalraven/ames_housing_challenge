{
 "cells": [
  {
   "cell_type": "markdown",
   "metadata": {},
   "source": [
    "# Problem Statement:\n",
    "\n"
   ]
  },
  {
   "cell_type": "markdown",
   "metadata": {},
   "source": [
    "To develop a predictive model for home sale prices in Ames, Iowa based on sales from 2006 to 2010, that will accurately predict the market price for as many home owners as possible. "
   ]
  },
  {
   "cell_type": "markdown",
   "metadata": {},
   "source": [
    "# Executive Summary:\n",
    "\n"
   ]
  },
  {
   "cell_type": "markdown",
   "metadata": {},
   "source": [
    "Our goal is to build a model that will accurately predict the market price for as many home owners as possible. \n",
    "\n",
    "Preperation of the data included removing null values or imputing them based on the data dictiornary or other features in the data. The dataframe also incuded both categorical and numeric data that needed to be parsed through to determine how they can best be included included in the final model. Multiple features that rated the quality of certain house features were changed to ordinal values on a scale of 1-5. \n",
    "\n",
    "The EDA process revealed the following insights:\n",
    "- The skew of the saleprices was 1.558, however taking the LN reduced the skew to 0.443. This was identified as a likely way to increase the performance of the model\n",
    "- There was a significant amount of mulitcolinearity between the features.\n",
    "- There were two obvious outliers that had high square footage but sold for low sale price, these were removed. Taking the LN of this feature imporved its correlation with saleprice almost as much as removing the outliers.\n",
    "- Overall quality was highly coordinated as a set ordinal values. The feature was left as is without changing to dummy variables.\n",
    " - Overall condition had an unusual number of 5 ratings which reversed the underlying positive correlation. This feature was not used. \n",
    "\n",
    "The following featuers were engineered from the data:\n",
    "- Calculating the total finished floor area significantly improves the correlation compared to above ground living area.\n",
    "- Calculating the total number of bathrooms significantly increases its correlation\n",
    "- Year built was converted to age which reflected the age of the house at time is was sold\n",
    "- Positive features totaled the number of positive featurs in the house\n",
    "- Negative features totaled the number of negative features in the house \n",
    "\n",
    "\n",
    "Results and Conclusions:\n",
    "- The lasso model was chosen as the best linear regression model\n",
    "- You can build a strong predictive model for home sale prices with feature engineering and a few strong predictors\n",
    "- If more features are added I expect taking the LN of saleprice and features will be more effective\n",
    "- For future submissions, incorporating a wider variety of features despite lower correlation and multicolinarity may boost performance if incorporated with regularization through Ridge, Lasso, ElasticNet"
   ]
  },
  {
   "cell_type": "markdown",
   "metadata": {},
   "source": [
    "# Data Dictionary:\n",
    "\n",
    "---\n",
    "\n",
    "**Engineered Features**\n",
    "\n",
    "|Feature|Name|Type|Description|\n",
    "|---|---|---|---|\n",
    "|**total_fin_sf**|Total Finished sf|*int*|The sum of above ground living area and total basement sf minus unfinish basement sf.|\n",
    "|**total_baths**|total number of baths|*float*|The total number of bathrooms in the house (half baths count as 0.5).|\n",
    "|**age**|House Age|*int*|Age of the house when it was sold.|\n",
    "|**positive_features**|Positive Features|*float*|The count of positive features in the house.|\n",
    "|**negative_features**|Negative Features|*float*|The count of negative features in the house.|\n",
    "\n",
    "---\n",
    "\n",
    "**Original Features**\n",
    "The data dictionary for the original features can be found here:\n",
    "\n",
    "https://www.kaggle.com/c/house-prices-advanced-regression-techniques/data\n",
    "\n"
   ]
  },
  {
   "cell_type": "markdown",
   "metadata": {},
   "source": [
    "# Results and Conclusions:\n"
   ]
  },
  {
   "cell_type": "markdown",
   "metadata": {},
   "source": [
    "Results and Conclusions:\n",
    "\n",
    "The final model used the following numeric features: \n",
    "\n",
    "- overall_qual\n",
    "- total_fin_area\n",
    "- garage_area\n",
    "- total_bath \n",
    "- age \n",
    "- kitchen_abvgr \n",
    "- enclosed_porch\n",
    "- positive_features\n",
    "- negative_features\n",
    "\n",
    "And the following features as dummy variables:\n",
    "- neighborhood\n",
    "- ms_zoning\n",
    "- house_style \n",
    "- bldg_type\n",
    "- lot_shape\n",
    "- ms_subclass \n",
    "- mo_sold\n",
    "- functional \n",
    "- sale_type\n",
    "- central_air\n",
    "- foundation\n",
    "\n",
    "The lasso model was found to perform significantly better than ridge or an unregularized liner regression when testing on the kaggle data set.\n",
    "\n",
    "With these features the mean cross validation score was 0.9162 and the root mean square was 22,095. This resulted in a Kaggle rmse of approximately 23,000 on the 30% kaggle test and approximately 30,000 on the 70% kaggle test. A model with the same featuers but trained on data with the outliers perfromed better on the 70% kaggle test but worse on the 30% kaggle test.\n",
    "\n",
    "There still appears to be some overfitting between the training data and kaggle test data. To address this next steps would be to score a model on the full kaggle test data with all features, and then remove features as necessary to reduce overfitting. In order to optomize the rmse score, outliers should likely be kept in the data, and calculating the log of saleprice and certain features such as total finished area should be considered as well.\n",
    "\n",
    "Finally, using an ensamble approach with XGBoost or RandomForest should be considered as well. "
   ]
  }
 ],
 "metadata": {
  "kernelspec": {
   "display_name": "Python 3",
   "language": "python",
   "name": "python3"
  },
  "language_info": {
   "codemirror_mode": {
    "name": "ipython",
    "version": 3
   },
   "file_extension": ".py",
   "mimetype": "text/x-python",
   "name": "python",
   "nbconvert_exporter": "python",
   "pygments_lexer": "ipython3",
   "version": "3.6.6"
  }
 },
 "nbformat": 4,
 "nbformat_minor": 2
}
